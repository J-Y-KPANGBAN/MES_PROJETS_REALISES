{
 "cells": [
  {
   "cell_type": "code",
   "execution_count": 1,
   "id": "4197c5ed",
   "metadata": {},
   "outputs": [],
   "source": [
    "import pandas as pd "
   ]
  },
  {
   "cell_type": "code",
   "execution_count": 2,
   "id": "d57e3114",
   "metadata": {},
   "outputs": [],
   "source": [
    "# Base de chemin et liste des mois\n",
    "base_path = \"C:/Users/Jean-YvesDG/Downloads/projet_gestion_ETL_python/VENTE_USA/Donnees_csv_base/\"\n",
    "\n",
    "months = [\n",
    "    \"January\", \"February\", \"March\", \"April\",\n",
    "    \"May\", \"June\", \"July\", \"August\",\n",
    "    \"September\", \"October\", \"November\", \"December\"\n",
    "]\n",
    "\n",
    "# Fonction pour générer les chemins de fichiers\n",
    "def generate_sales_file_paths(base_path):\n",
    "    return [ base_path + \"Sales_\" + month + \"_2019.csv\"for month in months]\n",
    "    #\n",
    "    #f\"{base_path}Sales_{month}_2019.csv\"\n"
   ]
  },
  {
   "cell_type": "code",
   "execution_count": 6,
   "id": "bc853b1f",
   "metadata": {},
   "outputs": [],
   "source": [
    "# Fonction pour lire et concaténer les fichiers CSV\n",
    "def extract(file_list):\n",
    "    df_list = []\n",
    "    for file in file_list:\n",
    "        try:\n",
    "            df = pd.read_csv(file)\n",
    "            df_list.append(df)\n",
    "        except FileNotFoundError:\n",
    "            print(f\"Fichier non trouvé : {file}\")\n",
    "    return pd.concat(df_list, ignore_index=True)\n"
   ]
  },
  {
   "cell_type": "code",
   "execution_count": 7,
   "id": "4c9f8e58",
   "metadata": {},
   "outputs": [],
   "source": [
    "#utilisation\n",
    "file_paths = generate_sales_file_paths(base_path)\n",
    "final_df = extract(file_paths)"
   ]
  },
  {
   "cell_type": "code",
   "execution_count": 6,
   "id": "19cd01db",
   "metadata": {},
   "outputs": [
    {
     "data": {
      "text/html": [
       "<div>\n",
       "<style scoped>\n",
       "    .dataframe tbody tr th:only-of-type {\n",
       "        vertical-align: middle;\n",
       "    }\n",
       "\n",
       "    .dataframe tbody tr th {\n",
       "        vertical-align: top;\n",
       "    }\n",
       "\n",
       "    .dataframe thead th {\n",
       "        text-align: right;\n",
       "    }\n",
       "</style>\n",
       "<table border=\"1\" class=\"dataframe\">\n",
       "  <thead>\n",
       "    <tr style=\"text-align: right;\">\n",
       "      <th></th>\n",
       "      <th>Order ID</th>\n",
       "      <th>Product</th>\n",
       "      <th>Quantity Ordered</th>\n",
       "      <th>Price Each</th>\n",
       "      <th>Order Date</th>\n",
       "      <th>Purchase Address</th>\n",
       "    </tr>\n",
       "  </thead>\n",
       "  <tbody>\n",
       "    <tr>\n",
       "      <th>0</th>\n",
       "      <td>141234</td>\n",
       "      <td>iPhone</td>\n",
       "      <td>1</td>\n",
       "      <td>700</td>\n",
       "      <td>01/22/19 21:25</td>\n",
       "      <td>944 Walnut St, Boston, MA 02215</td>\n",
       "    </tr>\n",
       "    <tr>\n",
       "      <th>1</th>\n",
       "      <td>141235</td>\n",
       "      <td>Lightning Charging Cable</td>\n",
       "      <td>1</td>\n",
       "      <td>14.95</td>\n",
       "      <td>01/28/19 14:15</td>\n",
       "      <td>185 Maple St, Portland, OR 97035</td>\n",
       "    </tr>\n",
       "    <tr>\n",
       "      <th>2</th>\n",
       "      <td>141236</td>\n",
       "      <td>Wired Headphones</td>\n",
       "      <td>2</td>\n",
       "      <td>11.99</td>\n",
       "      <td>01/17/19 13:33</td>\n",
       "      <td>538 Adams St, San Francisco, CA 94016</td>\n",
       "    </tr>\n",
       "    <tr>\n",
       "      <th>3</th>\n",
       "      <td>141237</td>\n",
       "      <td>27in FHD Monitor</td>\n",
       "      <td>1</td>\n",
       "      <td>149.99</td>\n",
       "      <td>01/05/19 20:33</td>\n",
       "      <td>738 10th St, Los Angeles, CA 90001</td>\n",
       "    </tr>\n",
       "    <tr>\n",
       "      <th>4</th>\n",
       "      <td>141238</td>\n",
       "      <td>Wired Headphones</td>\n",
       "      <td>1</td>\n",
       "      <td>11.99</td>\n",
       "      <td>01/25/19 11:59</td>\n",
       "      <td>387 10th St, Austin, TX 73301</td>\n",
       "    </tr>\n",
       "    <tr>\n",
       "      <th>...</th>\n",
       "      <td>...</td>\n",
       "      <td>...</td>\n",
       "      <td>...</td>\n",
       "      <td>...</td>\n",
       "      <td>...</td>\n",
       "      <td>...</td>\n",
       "    </tr>\n",
       "    <tr>\n",
       "      <th>186845</th>\n",
       "      <td>319666</td>\n",
       "      <td>Lightning Charging Cable</td>\n",
       "      <td>1</td>\n",
       "      <td>14.95</td>\n",
       "      <td>12/11/19 20:58</td>\n",
       "      <td>14 Madison St, San Francisco, CA 94016</td>\n",
       "    </tr>\n",
       "    <tr>\n",
       "      <th>186846</th>\n",
       "      <td>319667</td>\n",
       "      <td>AA Batteries (4-pack)</td>\n",
       "      <td>2</td>\n",
       "      <td>3.84</td>\n",
       "      <td>12/01/19 12:01</td>\n",
       "      <td>549 Willow St, Los Angeles, CA 90001</td>\n",
       "    </tr>\n",
       "    <tr>\n",
       "      <th>186847</th>\n",
       "      <td>319668</td>\n",
       "      <td>Vareebadd Phone</td>\n",
       "      <td>1</td>\n",
       "      <td>400</td>\n",
       "      <td>12/09/19 06:43</td>\n",
       "      <td>273 Wilson St, Seattle, WA 98101</td>\n",
       "    </tr>\n",
       "    <tr>\n",
       "      <th>186848</th>\n",
       "      <td>319669</td>\n",
       "      <td>Wired Headphones</td>\n",
       "      <td>1</td>\n",
       "      <td>11.99</td>\n",
       "      <td>12/03/19 10:39</td>\n",
       "      <td>778 River St, Dallas, TX 75001</td>\n",
       "    </tr>\n",
       "    <tr>\n",
       "      <th>186849</th>\n",
       "      <td>319670</td>\n",
       "      <td>Bose SoundSport Headphones</td>\n",
       "      <td>1</td>\n",
       "      <td>99.99</td>\n",
       "      <td>12/21/19 21:45</td>\n",
       "      <td>747 Chestnut St, Los Angeles, CA 90001</td>\n",
       "    </tr>\n",
       "  </tbody>\n",
       "</table>\n",
       "<p>186850 rows × 6 columns</p>\n",
       "</div>"
      ],
      "text/plain": [
       "       Order ID                     Product Quantity Ordered Price Each  \\\n",
       "0        141234                      iPhone                1        700   \n",
       "1        141235    Lightning Charging Cable                1      14.95   \n",
       "2        141236            Wired Headphones                2      11.99   \n",
       "3        141237            27in FHD Monitor                1     149.99   \n",
       "4        141238            Wired Headphones                1      11.99   \n",
       "...         ...                         ...              ...        ...   \n",
       "186845   319666    Lightning Charging Cable                1      14.95   \n",
       "186846   319667       AA Batteries (4-pack)                2       3.84   \n",
       "186847   319668             Vareebadd Phone                1        400   \n",
       "186848   319669            Wired Headphones                1      11.99   \n",
       "186849   319670  Bose SoundSport Headphones                1      99.99   \n",
       "\n",
       "            Order Date                        Purchase Address  \n",
       "0       01/22/19 21:25         944 Walnut St, Boston, MA 02215  \n",
       "1       01/28/19 14:15        185 Maple St, Portland, OR 97035  \n",
       "2       01/17/19 13:33   538 Adams St, San Francisco, CA 94016  \n",
       "3       01/05/19 20:33      738 10th St, Los Angeles, CA 90001  \n",
       "4       01/25/19 11:59           387 10th St, Austin, TX 73301  \n",
       "...                ...                                     ...  \n",
       "186845  12/11/19 20:58  14 Madison St, San Francisco, CA 94016  \n",
       "186846  12/01/19 12:01    549 Willow St, Los Angeles, CA 90001  \n",
       "186847  12/09/19 06:43        273 Wilson St, Seattle, WA 98101  \n",
       "186848  12/03/19 10:39          778 River St, Dallas, TX 75001  \n",
       "186849  12/21/19 21:45  747 Chestnut St, Los Angeles, CA 90001  \n",
       "\n",
       "[186850 rows x 6 columns]"
      ]
     },
     "execution_count": 6,
     "metadata": {},
     "output_type": "execute_result"
    }
   ],
   "source": [
    "final_df"
   ]
  },
  {
   "cell_type": "code",
   "execution_count": 7,
   "id": "a24689f3",
   "metadata": {},
   "outputs": [],
   "source": [
    "# Étape 1 : Crée une colonne ID_unique avec des valeurs incrémentées (de 1 à nombre total de lignes)\n",
    "final_df[\"ID_unique\"] = range(1, len(final_df) + 1)\n",
    "\n",
    "# Étape 2 : Définit cette nouvelle colonne comme index principal du DataFrame\n",
    "# Cela facilite les recherches, le tri et peut servir de clé de jointure dans un entrepôt de données\n",
    "final_df = final_df.set_index(\"ID_unique\")\n"
   ]
  },
  {
   "cell_type": "code",
   "execution_count": 8,
   "id": "f0af198c",
   "metadata": {},
   "outputs": [
    {
     "data": {
      "text/html": [
       "<div>\n",
       "<style scoped>\n",
       "    .dataframe tbody tr th:only-of-type {\n",
       "        vertical-align: middle;\n",
       "    }\n",
       "\n",
       "    .dataframe tbody tr th {\n",
       "        vertical-align: top;\n",
       "    }\n",
       "\n",
       "    .dataframe thead th {\n",
       "        text-align: right;\n",
       "    }\n",
       "</style>\n",
       "<table border=\"1\" class=\"dataframe\">\n",
       "  <thead>\n",
       "    <tr style=\"text-align: right;\">\n",
       "      <th></th>\n",
       "      <th>Order ID</th>\n",
       "      <th>Product</th>\n",
       "      <th>Quantity Ordered</th>\n",
       "      <th>Price Each</th>\n",
       "      <th>Order Date</th>\n",
       "      <th>Purchase Address</th>\n",
       "    </tr>\n",
       "    <tr>\n",
       "      <th>ID_unique</th>\n",
       "      <th></th>\n",
       "      <th></th>\n",
       "      <th></th>\n",
       "      <th></th>\n",
       "      <th></th>\n",
       "      <th></th>\n",
       "    </tr>\n",
       "  </thead>\n",
       "  <tbody>\n",
       "    <tr>\n",
       "      <th>1</th>\n",
       "      <td>141234</td>\n",
       "      <td>iPhone</td>\n",
       "      <td>1</td>\n",
       "      <td>700</td>\n",
       "      <td>01/22/19 21:25</td>\n",
       "      <td>944 Walnut St, Boston, MA 02215</td>\n",
       "    </tr>\n",
       "    <tr>\n",
       "      <th>2</th>\n",
       "      <td>141235</td>\n",
       "      <td>Lightning Charging Cable</td>\n",
       "      <td>1</td>\n",
       "      <td>14.95</td>\n",
       "      <td>01/28/19 14:15</td>\n",
       "      <td>185 Maple St, Portland, OR 97035</td>\n",
       "    </tr>\n",
       "    <tr>\n",
       "      <th>3</th>\n",
       "      <td>141236</td>\n",
       "      <td>Wired Headphones</td>\n",
       "      <td>2</td>\n",
       "      <td>11.99</td>\n",
       "      <td>01/17/19 13:33</td>\n",
       "      <td>538 Adams St, San Francisco, CA 94016</td>\n",
       "    </tr>\n",
       "    <tr>\n",
       "      <th>4</th>\n",
       "      <td>141237</td>\n",
       "      <td>27in FHD Monitor</td>\n",
       "      <td>1</td>\n",
       "      <td>149.99</td>\n",
       "      <td>01/05/19 20:33</td>\n",
       "      <td>738 10th St, Los Angeles, CA 90001</td>\n",
       "    </tr>\n",
       "    <tr>\n",
       "      <th>5</th>\n",
       "      <td>141238</td>\n",
       "      <td>Wired Headphones</td>\n",
       "      <td>1</td>\n",
       "      <td>11.99</td>\n",
       "      <td>01/25/19 11:59</td>\n",
       "      <td>387 10th St, Austin, TX 73301</td>\n",
       "    </tr>\n",
       "    <tr>\n",
       "      <th>...</th>\n",
       "      <td>...</td>\n",
       "      <td>...</td>\n",
       "      <td>...</td>\n",
       "      <td>...</td>\n",
       "      <td>...</td>\n",
       "      <td>...</td>\n",
       "    </tr>\n",
       "    <tr>\n",
       "      <th>186846</th>\n",
       "      <td>319666</td>\n",
       "      <td>Lightning Charging Cable</td>\n",
       "      <td>1</td>\n",
       "      <td>14.95</td>\n",
       "      <td>12/11/19 20:58</td>\n",
       "      <td>14 Madison St, San Francisco, CA 94016</td>\n",
       "    </tr>\n",
       "    <tr>\n",
       "      <th>186847</th>\n",
       "      <td>319667</td>\n",
       "      <td>AA Batteries (4-pack)</td>\n",
       "      <td>2</td>\n",
       "      <td>3.84</td>\n",
       "      <td>12/01/19 12:01</td>\n",
       "      <td>549 Willow St, Los Angeles, CA 90001</td>\n",
       "    </tr>\n",
       "    <tr>\n",
       "      <th>186848</th>\n",
       "      <td>319668</td>\n",
       "      <td>Vareebadd Phone</td>\n",
       "      <td>1</td>\n",
       "      <td>400</td>\n",
       "      <td>12/09/19 06:43</td>\n",
       "      <td>273 Wilson St, Seattle, WA 98101</td>\n",
       "    </tr>\n",
       "    <tr>\n",
       "      <th>186849</th>\n",
       "      <td>319669</td>\n",
       "      <td>Wired Headphones</td>\n",
       "      <td>1</td>\n",
       "      <td>11.99</td>\n",
       "      <td>12/03/19 10:39</td>\n",
       "      <td>778 River St, Dallas, TX 75001</td>\n",
       "    </tr>\n",
       "    <tr>\n",
       "      <th>186850</th>\n",
       "      <td>319670</td>\n",
       "      <td>Bose SoundSport Headphones</td>\n",
       "      <td>1</td>\n",
       "      <td>99.99</td>\n",
       "      <td>12/21/19 21:45</td>\n",
       "      <td>747 Chestnut St, Los Angeles, CA 90001</td>\n",
       "    </tr>\n",
       "  </tbody>\n",
       "</table>\n",
       "<p>186850 rows × 6 columns</p>\n",
       "</div>"
      ],
      "text/plain": [
       "          Order ID                     Product Quantity Ordered Price Each  \\\n",
       "ID_unique                                                                    \n",
       "1           141234                      iPhone                1        700   \n",
       "2           141235    Lightning Charging Cable                1      14.95   \n",
       "3           141236            Wired Headphones                2      11.99   \n",
       "4           141237            27in FHD Monitor                1     149.99   \n",
       "5           141238            Wired Headphones                1      11.99   \n",
       "...            ...                         ...              ...        ...   \n",
       "186846      319666    Lightning Charging Cable                1      14.95   \n",
       "186847      319667       AA Batteries (4-pack)                2       3.84   \n",
       "186848      319668             Vareebadd Phone                1        400   \n",
       "186849      319669            Wired Headphones                1      11.99   \n",
       "186850      319670  Bose SoundSport Headphones                1      99.99   \n",
       "\n",
       "               Order Date                        Purchase Address  \n",
       "ID_unique                                                          \n",
       "1          01/22/19 21:25         944 Walnut St, Boston, MA 02215  \n",
       "2          01/28/19 14:15        185 Maple St, Portland, OR 97035  \n",
       "3          01/17/19 13:33   538 Adams St, San Francisco, CA 94016  \n",
       "4          01/05/19 20:33      738 10th St, Los Angeles, CA 90001  \n",
       "5          01/25/19 11:59           387 10th St, Austin, TX 73301  \n",
       "...                   ...                                     ...  \n",
       "186846     12/11/19 20:58  14 Madison St, San Francisco, CA 94016  \n",
       "186847     12/01/19 12:01    549 Willow St, Los Angeles, CA 90001  \n",
       "186848     12/09/19 06:43        273 Wilson St, Seattle, WA 98101  \n",
       "186849     12/03/19 10:39          778 River St, Dallas, TX 75001  \n",
       "186850     12/21/19 21:45  747 Chestnut St, Los Angeles, CA 90001  \n",
       "\n",
       "[186850 rows x 6 columns]"
      ]
     },
     "execution_count": 8,
     "metadata": {},
     "output_type": "execute_result"
    }
   ],
   "source": [
    "final_df"
   ]
  },
  {
   "cell_type": "markdown",
   "id": "ab6fcd9c",
   "metadata": {},
   "source": [
    "renomage des colonnes\n"
   ]
  },
  {
   "cell_type": "code",
   "execution_count": 9,
   "id": "b3b9dbee",
   "metadata": {},
   "outputs": [],
   "source": [
    "final_df.columns = ['Order_ID', 'Product', 'Quantity_Ordered', 'Price_Each', 'Order_Date', 'Purchase_Address']\n"
   ]
  },
  {
   "cell_type": "code",
   "execution_count": 10,
   "id": "38aabc93",
   "metadata": {},
   "outputs": [],
   "source": [
    "#remettre ID_unique comme colonne normale\n",
    "final_df = final_df.reset_index()\n"
   ]
  },
  {
   "cell_type": "markdown",
   "id": "220a6e9f",
   "metadata": {},
   "source": [
    "Merge data \n"
   ]
  },
  {
   "cell_type": "code",
   "execution_count": 11,
   "id": "67158633",
   "metadata": {},
   "outputs": [],
   "source": [
    "final_df =pd.DataFrame(final_df)"
   ]
  },
  {
   "cell_type": "code",
   "execution_count": 12,
   "id": "206248b5",
   "metadata": {},
   "outputs": [],
   "source": [
    "#load data merge\n",
    "final_df.to_csv(\"Donnée_fusion/data_merge.CSV\",index=False)\n"
   ]
  },
  {
   "cell_type": "code",
   "execution_count": 13,
   "id": "18afe627",
   "metadata": {},
   "outputs": [
    {
     "data": {
      "text/html": [
       "<div>\n",
       "<style scoped>\n",
       "    .dataframe tbody tr th:only-of-type {\n",
       "        vertical-align: middle;\n",
       "    }\n",
       "\n",
       "    .dataframe tbody tr th {\n",
       "        vertical-align: top;\n",
       "    }\n",
       "\n",
       "    .dataframe thead th {\n",
       "        text-align: right;\n",
       "    }\n",
       "</style>\n",
       "<table border=\"1\" class=\"dataframe\">\n",
       "  <thead>\n",
       "    <tr style=\"text-align: right;\">\n",
       "      <th></th>\n",
       "      <th>ID_unique</th>\n",
       "      <th>Order_ID</th>\n",
       "      <th>Product</th>\n",
       "      <th>Quantity_Ordered</th>\n",
       "      <th>Price_Each</th>\n",
       "      <th>Order_Date</th>\n",
       "      <th>Purchase_Address</th>\n",
       "    </tr>\n",
       "  </thead>\n",
       "  <tbody>\n",
       "    <tr>\n",
       "      <th>0</th>\n",
       "      <td>1</td>\n",
       "      <td>141234</td>\n",
       "      <td>iPhone</td>\n",
       "      <td>1</td>\n",
       "      <td>700</td>\n",
       "      <td>01/22/19 21:25</td>\n",
       "      <td>944 Walnut St, Boston, MA 02215</td>\n",
       "    </tr>\n",
       "    <tr>\n",
       "      <th>1</th>\n",
       "      <td>2</td>\n",
       "      <td>141235</td>\n",
       "      <td>Lightning Charging Cable</td>\n",
       "      <td>1</td>\n",
       "      <td>14.95</td>\n",
       "      <td>01/28/19 14:15</td>\n",
       "      <td>185 Maple St, Portland, OR 97035</td>\n",
       "    </tr>\n",
       "    <tr>\n",
       "      <th>2</th>\n",
       "      <td>3</td>\n",
       "      <td>141236</td>\n",
       "      <td>Wired Headphones</td>\n",
       "      <td>2</td>\n",
       "      <td>11.99</td>\n",
       "      <td>01/17/19 13:33</td>\n",
       "      <td>538 Adams St, San Francisco, CA 94016</td>\n",
       "    </tr>\n",
       "    <tr>\n",
       "      <th>3</th>\n",
       "      <td>4</td>\n",
       "      <td>141237</td>\n",
       "      <td>27in FHD Monitor</td>\n",
       "      <td>1</td>\n",
       "      <td>149.99</td>\n",
       "      <td>01/05/19 20:33</td>\n",
       "      <td>738 10th St, Los Angeles, CA 90001</td>\n",
       "    </tr>\n",
       "    <tr>\n",
       "      <th>4</th>\n",
       "      <td>5</td>\n",
       "      <td>141238</td>\n",
       "      <td>Wired Headphones</td>\n",
       "      <td>1</td>\n",
       "      <td>11.99</td>\n",
       "      <td>01/25/19 11:59</td>\n",
       "      <td>387 10th St, Austin, TX 73301</td>\n",
       "    </tr>\n",
       "  </tbody>\n",
       "</table>\n",
       "</div>"
      ],
      "text/plain": [
       "   ID_unique Order_ID                   Product Quantity_Ordered Price_Each  \\\n",
       "0          1   141234                    iPhone                1        700   \n",
       "1          2   141235  Lightning Charging Cable                1      14.95   \n",
       "2          3   141236          Wired Headphones                2      11.99   \n",
       "3          4   141237          27in FHD Monitor                1     149.99   \n",
       "4          5   141238          Wired Headphones                1      11.99   \n",
       "\n",
       "       Order_Date                       Purchase_Address  \n",
       "0  01/22/19 21:25        944 Walnut St, Boston, MA 02215  \n",
       "1  01/28/19 14:15       185 Maple St, Portland, OR 97035  \n",
       "2  01/17/19 13:33  538 Adams St, San Francisco, CA 94016  \n",
       "3  01/05/19 20:33     738 10th St, Los Angeles, CA 90001  \n",
       "4  01/25/19 11:59          387 10th St, Austin, TX 73301  "
      ]
     },
     "execution_count": 13,
     "metadata": {},
     "output_type": "execute_result"
    }
   ],
   "source": [
    "final_df.head()"
   ]
  },
  {
   "cell_type": "markdown",
   "id": "7241c2b2",
   "metadata": {},
   "source": [
    "DECOUPAGE DE LA TABLE data_merge en plusieur tables pour faire le modele en etoile "
   ]
  },
  {
   "cell_type": "code",
   "execution_count": 14,
   "id": "978dfdc9",
   "metadata": {},
   "outputs": [],
   "source": [
    "\n",
    "# On extrait les colonnes 'ID_unique' et 'Order_Date' de final_df\n",
    "# Puis on renomme 'ID_unique' en 'ID_Date' pour la table de dimension date\n",
    "# Création des tables de dimensions depuis le final_df\n",
    "Dim_date = final_df[['ID_unique', 'Order_Date']].rename(columns={'ID_unique': 'ID_Date'})\n",
    "Dim_adresse = final_df[['ID_unique', 'Purchase_Address']].rename(columns={'ID_unique': 'ID_Adresse'})\n",
    "Dim_commande = final_df[['ID_unique', 'Order_ID', 'Product', 'Quantity_Ordered']].rename(columns={'ID_unique': 'ID_Commande'})\n",
    "Ventes = final_df[['ID_unique', 'Quantity_Ordered', 'Price_Each']].rename(columns={'ID_unique': 'ID_Vente'})\n"
   ]
  },
  {
   "cell_type": "code",
   "execution_count": 15,
   "id": "bf2ef8ef",
   "metadata": {},
   "outputs": [
    {
     "data": {
      "text/plain": [
       "\"# Rénomage des tables \\nDim_date.columns=['ID_Date','Order_Date']\\nDim_adresse.columns=['ID_Adresse','Purchase_Address']\\nDim_commande.columns=['ID_Commande','Order_ID', 'Product', 'Quantity_Ordered']\\n\""
      ]
     },
     "execution_count": 15,
     "metadata": {},
     "output_type": "execute_result"
    }
   ],
   "source": [
    "\"\"\"# Rénomage des tables \n",
    "Dim_date.columns=['ID_Date','Order_Date']\n",
    "Dim_adresse.columns=['ID_Adresse','Purchase_Address']\n",
    "Dim_commande.columns=['ID_Commande','Order_ID', 'Product', 'Quantity_Ordered']\n",
    "\"\"\"\n"
   ]
  },
  {
   "cell_type": "code",
   "execution_count": 16,
   "id": "8aaf53e8",
   "metadata": {},
   "outputs": [],
   "source": [
    "# Fusion avec la table Dim_date\n",
    "Ventes = Ventes.merge(Dim_date[['ID_Date']], left_on='ID_Vente', right_on='ID_Date', how='left')\n",
    "\n",
    "# Fusion avec Dim_adresse\n",
    "Ventes = Ventes.merge(Dim_adresse[['ID_Adresse']], left_on='ID_Vente', right_on='ID_Adresse', how='left')\n",
    "\n",
    "# Fusion avec Dim_commande\n",
    "Ventes = Ventes.merge(Dim_commande[['ID_Commande']], left_on='ID_Vente', right_on='ID_Commande', how='left')\n"
   ]
  },
  {
   "cell_type": "markdown",
   "id": "d1182fd8",
   "metadata": {},
   "source": [
    "CREATION DE NOUVEAU TABLES  - dataframe"
   ]
  },
  {
   "cell_type": "code",
   "execution_count": 17,
   "id": "855b22fe",
   "metadata": {},
   "outputs": [],
   "source": [
    "Dim_date =pd.DataFrame(Dim_date)\n",
    "Dim_adresse =pd.DataFrame(Dim_adresse)\n",
    "Dim_commande =pd.DataFrame(Dim_commande)\n",
    "Ventes =pd.DataFrame(Ventes)"
   ]
  },
  {
   "cell_type": "markdown",
   "id": "2b4ae0f0",
   "metadata": {},
   "source": [
    "TRANSFORMATION DES 4 TABLES "
   ]
  },
  {
   "cell_type": "markdown",
   "id": "91161378",
   "metadata": {},
   "source": [
    "Tables dimension date"
   ]
  },
  {
   "cell_type": "code",
   "execution_count": 18,
   "id": "31ec5c6c",
   "metadata": {},
   "outputs": [],
   "source": [
    "# Conversion  de la colonne objet date en format date heure\n",
    "Dim_date['Order_Date'] = pd.to_datetime(Dim_date['Order_Date'], format=\"%m/%d/%y %H:%M\", errors=\"coerce\")\n"
   ]
  },
  {
   "cell_type": "code",
   "execution_count": 19,
   "id": "66ad5fba",
   "metadata": {},
   "outputs": [],
   "source": [
    "# decoupage de la colonne date en deux\n",
    "Dim_date['Date'] = Dim_date['Order_Date'].dt.date\n",
    "Dim_date['Heure'] = Dim_date['Order_Date'].dt.time"
   ]
  },
  {
   "cell_type": "code",
   "execution_count": 20,
   "id": "f1f7d32b",
   "metadata": {},
   "outputs": [],
   "source": [
    "# Séparer la colonne date  en année mois jours\n",
    "Dim_date[['Année', 'Mois', 'Jour']] = Dim_date['Date'].astype(str).str.split('-', expand=True)\n"
   ]
  },
  {
   "cell_type": "markdown",
   "id": "94ad358b",
   "metadata": {},
   "source": [
    "table dimension adresse"
   ]
  },
  {
   "cell_type": "code",
   "execution_count": 21,
   "id": "f5300a30",
   "metadata": {},
   "outputs": [],
   "source": [
    "# Séparer la colonne en deux \n",
    "# Étape 1 : Séparer sur les virgules\n",
    "Dim_adresse[['Adresse', 'Ville', 'État_CodePostal']] = Dim_adresse['Purchase_Address'].astype(str).str.split(',', expand=True)\n",
    "\n",
    "# Étape 2 : Nettoyage de l'espace au début de l'État_CodePostal\n",
    "Dim_adresse['État_CodePostal'] = Dim_adresse['État_CodePostal'].str.strip()\n",
    "\n",
    "# Étape 3 : Extraire uniquement le code postal\n",
    "#Dim_adresse[['Code_postale', 'Etat']] = Dim_adresse['État_CodePostal'].astype(str).str.split(' ', expand=True)\n",
    "Dim_adresse[['État', 'Code_postale']] = Dim_adresse['État_CodePostal'].astype(str).str.split(' ', expand=True)\n",
    "\n"
   ]
  },
  {
   "cell_type": "code",
   "execution_count": 22,
   "id": "8ec773b1",
   "metadata": {},
   "outputs": [],
   "source": [
    "Dim_adresse.drop(['État_CodePostal', 'Purchase_Address'], axis=1, inplace=True)\n"
   ]
  },
  {
   "cell_type": "markdown",
   "id": "72501cd2",
   "metadata": {},
   "source": [
    "CHARGEMENT DES NOUVEAU DONNEES"
   ]
  },
  {
   "cell_type": "code",
   "execution_count": 23,
   "id": "a22cb5c0",
   "metadata": {},
   "outputs": [],
   "source": [
    "Dim_date.to_csv(\"D_warehouse/Dim_date.CSV\",index=False)\n",
    "Dim_adresse.to_csv(\"D_warehouse/Dim_adresse.CSV\",index=False)\n",
    "Dim_commande.to_csv(\"D_warehouse/Dim_commande.CSV\",index=False)\n",
    "Ventes.to_csv(\"D_warehouse/Ventes.CSV\",index=False)"
   ]
  }
 ],
 "metadata": {
  "kernelspec": {
   "display_name": "env",
   "language": "python",
   "name": "python3"
  },
  "language_info": {
   "codemirror_mode": {
    "name": "ipython",
    "version": 3
   },
   "file_extension": ".py",
   "mimetype": "text/x-python",
   "name": "python",
   "nbconvert_exporter": "python",
   "pygments_lexer": "ipython3",
   "version": "3.13.1"
  }
 },
 "nbformat": 4,
 "nbformat_minor": 5
}
